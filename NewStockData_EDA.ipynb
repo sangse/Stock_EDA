{
  "nbformat": 4,
  "nbformat_minor": 0,
  "metadata": {
    "colab": {
      "provenance": [],
      "authorship_tag": "ABX9TyPT+2SvVZjFspB5MWWorA8Z",
      "include_colab_link": true
    },
    "kernelspec": {
      "name": "python3",
      "display_name": "Python 3"
    },
    "language_info": {
      "name": "python"
    }
  },
  "cells": [
    {
      "cell_type": "markdown",
      "metadata": {
        "id": "view-in-github",
        "colab_type": "text"
      },
      "source": [
        "<a href=\"https://colab.research.google.com/github/sangse/Stock_EDA/blob/main/NewStockData_EDA.ipynb\" target=\"_parent\"><img src=\"https://colab.research.google.com/assets/colab-badge.svg\" alt=\"Open In Colab\"/></a>"
      ]
    },
    {
      "cell_type": "code",
      "execution_count": null,
      "metadata": {
        "colab": {
          "base_uri": "https://localhost:8080/"
        },
        "id": "vyHFMK0coEqf",
        "outputId": "7c692870-c2e2-4612-b201-64ccfdb4fa00"
      },
      "outputs": [
        {
          "output_type": "stream",
          "name": "stdout",
          "text": [
            "Mounted at /content/drive\n"
          ]
        }
      ],
      "source": [
        "from google.colab import drive\n",
        "drive.mount('/content/drive')"
      ]
    },
    {
      "cell_type": "code",
      "source": [
        "import pandas as pd\n",
        "import numpy as np\n",
        "import matplotlib.pyplot as plt\n",
        "import seaborn as sns\n",
        "\n",
        "import os\n",
        "import math\n",
        "import torch\n",
        "import torch.nn as nn\n",
        "import torch.optim as optim\n",
        "from torch.autograd import Variable\n",
        "from sklearn.cluster import KMeans\n",
        "from sklearn.preprocessing import MinMaxScaler\n",
        "from torch.utils.data import DataLoader\n",
        "import matplotlib.pyplot as plt\n",
        "from torch.utils.data import DataLoader, random_split"
      ],
      "metadata": {
        "id": "hgj9Q9o2oVqR"
      },
      "execution_count": null,
      "outputs": []
    },
    {
      "cell_type": "code",
      "source": [
        "def df_slicing_window_3(df):\n",
        "  total_length = len(df)\n",
        "  data_array = []\n",
        "  for window_size in range(4, 13):\n",
        "      numofblock = math.ceil((total_length - window_size) / 1) + 1\n",
        "      for num in range(numofblock):\n",
        "          start_index = num\n",
        "          end_index = start_index + window_size\n",
        "          if end_index > total_length:\n",
        "              break\n",
        "          data = df.iloc[start_index:end_index].values\n",
        "          data = np.pad(data, ((0, 12 - len(data)), (0, 0)), mode='constant')\n",
        "          data_array.append(data)\n",
        "  return (data_array)"
      ],
      "metadata": {
        "id": "LuR53_ZKob-r"
      },
      "execution_count": null,
      "outputs": []
    },
    {
      "cell_type": "code",
      "source": [
        "import os\n",
        "import pandas as pd\n",
        "from sklearn.preprocessing import MinMaxScaler\n",
        "\n",
        "# 디렉토리 설정\n",
        "directory = '/content/drive/MyDrive/data/신규상장데이터'\n",
        "\n",
        "# 디렉토리 안의 파일 이름들을 리스트로 가져옴\n",
        "file_names = os.listdir(directory)\n",
        "\n",
        "# MinMaxScaler 초기화\n",
        "min_max_scaler = MinMaxScaler()\n",
        "\n",
        "# 결과를 저장할 리스트 초기화\n",
        "processed_data = []\n",
        "\n",
        "for name in file_names:\n",
        "    # 파일 데이터프레임으로 저장하고 일자를 인덱스로 설정하고 오름차순으로 정렬\n",
        "    tmp = pd.read_csv(os.path.join(directory, name), encoding='cp949')\n",
        "\n",
        "    # 일자를 datetime 형식으로 변환하고 정렬\n",
        "    tmp = tmp.sort_values(by='일자', ascending=True)\n",
        "    tmp.set_index('일자', inplace=True)\n",
        "\n",
        "    # 공모가가 없는 데이터 건너뛰기\n",
        "    if '공모가' not in tmp.columns or tmp['공모가'].isnull().any():\n",
        "        continue\n",
        "\n",
        "    # 공모가 대비 가격 특징 추가\n",
        "    tmp['공모가대비현재가'] = tmp['현재가'] / tmp['공모가']\n",
        "    tmp['공모가대비저가'] = tmp['저가'] / tmp['공모가']\n",
        "    tmp['공모가대비고가'] = tmp['고가'] / tmp['공모가']\n",
        "    tmp['공모가대비시가'] = tmp['시가'] / tmp['공모가']\n",
        "\n",
        "    # MinMaxScaler 적용\n",
        "    tmp['현재가'] = min_max_scaler.fit_transform(tmp[['현재가']])\n",
        "    tmp['저가'] = min_max_scaler.fit_transform(tmp[['저가']])\n",
        "    tmp['고가'] = min_max_scaler.fit_transform(tmp[['고가']])\n",
        "    tmp['시가'] = min_max_scaler.fit_transform(tmp[['시가']])\n",
        "    tmp['거래량'] = min_max_scaler.fit_transform(tmp[['거래량']])\n",
        "    tmp['거래대금'] = min_max_scaler.fit_transform(tmp[['거래대금']])\n",
        "\n",
        "    # 조건 검사: 공모가 대비 현재가가 5를 초과하는지 확인\n",
        "    if any(tmp['공모가대비현재가'] > 5):\n",
        "        print(f\"{name}: 공모가 대비 현재가가 5를 초과하는 데이터가 존재합니다.\")\n",
        "\n",
        "    # 공모가대비현재가를 제일 첫번째 인덱스로 설정\n",
        "    col = tmp.pop('공모가대비현재가')\n",
        "    tmp.insert(0, '공모가대비현재가', col)\n",
        "\n",
        "    # 필요없는 특징들 제거\n",
        "    drop_list = ['종목코드', 'Unnamed: 0', '종목명', '시장구분', '공모가']\n",
        "    tmp.drop(columns=drop_list, inplace=True)\n",
        "\n",
        "    # NaN 값이 하나라도 있으면 건너뛰기\n",
        "    if tmp.isna().any().any():\n",
        "        continue\n",
        "\n",
        "    # 처리된 데이터프레임을 리스트에 추가\n",
        "    processed_data.append(tmp)\n",
        "\n",
        "# processed_data 리스트에 저장된 데이터프레임들을 순차적으로 사용할 수 있습니다.\n",
        "# 필요에 따라 하나의 데이터프레임으로 결합할 수도 있습니다.\n",
        "result_df = pd.concat(processed_data)\n"
      ],
      "metadata": {
        "colab": {
          "base_uri": "https://localhost:8080/"
        },
        "id": "lLdefL4ko7Qh",
        "outputId": "a6e0a4a2-13a6-497b-ce57-bb7bb513cff3"
      },
      "execution_count": null,
      "outputs": [
        {
          "output_type": "stream",
          "name": "stdout",
          "text": [
            "명신산업.csv: 공모가 대비 현재가가 5를 초과하는 데이터가 존재합니다.\n",
            "자이언트스텝.csv: 공모가 대비 현재가가 5를 초과하는 데이터가 존재합니다.\n",
            "맥스트.csv: 공모가 대비 현재가가 5를 초과하는 데이터가 존재합니다.\n",
            "미래반도체.csv: 공모가 대비 현재가가 5를 초과하는 데이터가 존재합니다.\n",
            "꿈비.csv: 공모가 대비 현재가가 5를 초과하는 데이터가 존재합니다.\n",
            "LS머트리얼즈.csv: 공모가 대비 현재가가 5를 초과하는 데이터가 존재합니다.\n",
            "큐리옥스바이오시스템즈.csv: 공모가 대비 현재가가 5를 초과하는 데이터가 존재합니다.\n",
            "에코프로머티.csv: 공모가 대비 현재가가 5를 초과하는 데이터가 존재합니다.\n",
            "우진엔텍.csv: 공모가 대비 현재가가 5를 초과하는 데이터가 존재합니다.\n"
          ]
        }
      ]
    },
    {
      "cell_type": "code",
      "source": [
        "import numpy as np\n",
        "import statsmodels.api as sm\n",
        "import numpy as np\n",
        "\n",
        "# 모든 파일의 데이터 길이 중 최대 길이를 찾습니다.\n",
        "max_length = min(len(tmp) for tmp in processed_data)\n",
        "\n",
        "# 각 파일의 데이터를 패딩하여 최대 길이에 맞춥니다.\n",
        "padded_data = []\n",
        "for tmp in processed_data:\n",
        "    # padding_length = max_length - len(tmp)\n",
        "    # padded_tmp = np.pad(tmp, ((0, padding_length), (0, 0)), mode='constant', constant_values=0)\n",
        "\n",
        "    padded_data.append(tmp[:max_length])\n",
        "\n",
        "# 패딩된 데이터로 ACF 및 PACF 값을 계산합니다.\n",
        "acf_values = []\n",
        "pacf_values = []\n",
        "\n",
        "for tmp in padded_data:\n",
        "    acf_result = sm.tsa.acf(tmp.iloc[:, 0])  # '공모가대비현재가' 열에 대한 ACF 계산\n",
        "    pacf_result = sm.tsa.pacf(tmp.iloc[:, 0])  # '공모가대비현재가' 열에 대한 PACF 계산\n",
        "    acf_values.append(acf_result)\n",
        "    pacf_values.append(pacf_result)\n",
        "\n",
        "# ACF 및 PACF 값의 평균을 계산합니다.\n",
        "mean_acf = np.mean(acf_values, axis=0)\n",
        "mean_pacf = np.mean(pacf_values, axis=0)\n",
        "\n",
        "# 평균 ACF 및 PACF 시각화\n",
        "plt.figure(figsize=(12, 6))\n",
        "plt.subplot(2, 1, 1)\n",
        "plt.stem(mean_acf)\n",
        "plt.title('Mean ACF')\n",
        "\n",
        "plt.subplot(2, 1, 2)\n",
        "plt.stem(mean_pacf)\n",
        "plt.title('Mean PACF')\n",
        "\n",
        "plt.show()"
      ],
      "metadata": {
        "colab": {
          "base_uri": "https://localhost:8080/",
          "height": 545
        },
        "id": "Y2_b2bfl8OzB",
        "outputId": "11d03287-9c8e-43ec-e024-1a354dd7efc0"
      },
      "execution_count": null,
      "outputs": [
        {
          "output_type": "display_data",
          "data": {
            "text/plain": [
              "<Figure size 1200x600 with 2 Axes>"
            ],
            "image/png": "[encoded data removed]"
          },
          "metadata": {}
        }
      ]
    }
  ]
}